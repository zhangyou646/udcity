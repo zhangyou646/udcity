{
 "cells": [
  {
   "cell_type": "markdown",
   "metadata": {},
   "source": [
    "## 探索电影数据集\n",
    "\n",
    "在这个项目中，你将尝试使用所学的知识，使用 `NumPy`、`Pandas`、`matplotlib`、`seaborn` 库中的函数，来对电影数据集进行探索。\n",
    "\n",
    "下载数据集：\n",
    "[TMDb电影数据](https://s3.cn-north-1.amazonaws.com.cn/static-documents/nd101/explore+dataset/tmdb-movies.csv)\n"
   ]
  },
  {
   "cell_type": "markdown",
   "metadata": {},
   "source": [
    "\n",
    "数据集各列名称的含义：\n",
    "<table>\n",
    "<thead><tr><th>列名称</th><th>id</th><th>imdb_id</th><th>popularity</th><th>budget</th><th>revenue</th><th>original_title</th><th>cast</th><th>homepage</th><th>director</th><th>tagline</th><th>keywords</th><th>overview</th><th>runtime</th><th>genres</th><th>production_companies</th><th>release_date</th><th>vote_count</th><th>vote_average</th><th>release_year</th><th>budget_adj</th><th>revenue_adj</th></tr></thead><tbody>\n",
    " <tr><td>含义</td><td>编号</td><td>IMDB 编号</td><td>知名度</td><td>预算</td><td>票房</td><td>名称</td><td>主演</td><td>网站</td><td>导演</td><td>宣传词</td><td>关键词</td><td>简介</td><td>时常</td><td>类别</td><td>发行公司</td><td>发行日期</td><td>投票总数</td><td>投票均值</td><td>发行年份</td><td>预算（调整后）</td><td>票房（调整后）</td></tr>\n",
    "</tbody></table>\n"
   ]
  },
  {
   "cell_type": "code",
   "execution_count": 1,
   "metadata": {},
   "outputs": [
    {
     "ename": "SyntaxError",
     "evalue": "invalid syntax (<ipython-input-1-69cabcd1890b>, line 1)",
     "output_type": "error",
     "traceback": [
      "\u001b[1;36m  File \u001b[1;32m\"<ipython-input-1-69cabcd1890b>\"\u001b[1;36m, line \u001b[1;32m1\u001b[0m\n\u001b[1;33m    **请注意，你需要提交该报告导出的 `.html`、`.ipynb` 以及 `.py` 文件。**\u001b[0m\n\u001b[1;37m     ^\u001b[0m\n\u001b[1;31mSyntaxError\u001b[0m\u001b[1;31m:\u001b[0m invalid syntax\n"
     ]
    }
   ],
   "source": [
    "**请注意，你需要提交该报告导出的 `.html`、`.ipynb` 以及 `.py` 文件。**"
   ]
  },
  {
   "cell_type": "markdown",
   "metadata": {
    "collapsed": true
   },
   "source": [
    "\n",
    "\n",
    "---\n",
    "\n",
    "---\n",
    "\n",
    "## 第一节 数据的导入与处理\n",
    "\n",
    "在这一部分，你需要编写代码，使用 Pandas 读取数据，并进行预处理。"
   ]
  },
  {
   "cell_type": "markdown",
   "metadata": {},
   "source": [
    "\n",
    "**任务1.1：** 导入库以及数据\n",
    "\n",
    "1. 载入需要的库 `NumPy`、`Pandas`、`matplotlib`、`seaborn`。\n",
    "2. 利用 `Pandas` 库，读取 `tmdb-movies.csv` 中的数据，保存为 `movie_data`。\n",
    "\n",
    "提示：记得使用 notebook 中的魔法指令 `%matplotlib inline`，否则会导致你接下来无法打印出图像。"
   ]
  },
  {
   "cell_type": "code",
   "execution_count": 1,
   "metadata": {},
   "outputs": [],
   "source": [
    "import numpy as np\n",
    "import pandas as pd\n",
    "import matplotlib.pyplot as plt\n",
    "import seaborn as sb\n",
    "%matplotlib inline\n",
    "\n",
    "movie_data = pd.read_csv('./tmdb-movies.csv')"
   ]
  },
  {
   "cell_type": "markdown",
   "metadata": {},
   "source": [
    "---\n",
    "\n",
    "**任务1.2: ** 了解数据\n",
    "\n",
    "你会接触到各种各样的数据表，因此在读取之后，我们有必要通过一些简单的方法，来了解我们数据表是什么样子的。\n",
    "\n",
    "1. 获取数据表的行列，并打印。\n",
    "2. 使用 `.head()`、`.tail()`、`.sample()` 方法，观察、了解数据表的情况。\n",
    "3. 使用 `.dtypes` 属性，来查看各列数据的数据类型。\n",
    "4. 使用 `isnull()` 配合 `.any()` 等方法，来查看各列是否存在空值。\n",
    "5. 使用 `.describe()` 方法，看看数据表中数值型的数据是怎么分布的。\n",
    "\n"
   ]
  },
  {
   "cell_type": "code",
   "execution_count": 2,
   "metadata": {},
   "outputs": [
    {
     "name": "stdout",
     "output_type": "stream",
     "text": [
      "Jurassic World\n"
     ]
    },
    {
     "data": {
      "text/html": [
       "<div>\n",
       "<style scoped>\n",
       "    .dataframe tbody tr th:only-of-type {\n",
       "        vertical-align: middle;\n",
       "    }\n",
       "\n",
       "    .dataframe tbody tr th {\n",
       "        vertical-align: top;\n",
       "    }\n",
       "\n",
       "    .dataframe thead th {\n",
       "        text-align: right;\n",
       "    }\n",
       "</style>\n",
       "<table border=\"1\" class=\"dataframe\">\n",
       "  <thead>\n",
       "    <tr style=\"text-align: right;\">\n",
       "      <th></th>\n",
       "      <th>id</th>\n",
       "      <th>popularity</th>\n",
       "      <th>budget</th>\n",
       "      <th>revenue</th>\n",
       "      <th>runtime</th>\n",
       "      <th>vote_count</th>\n",
       "      <th>vote_average</th>\n",
       "      <th>release_year</th>\n",
       "      <th>budget_adj</th>\n",
       "      <th>revenue_adj</th>\n",
       "    </tr>\n",
       "  </thead>\n",
       "  <tbody>\n",
       "    <tr>\n",
       "      <th>count</th>\n",
       "      <td>10866.000000</td>\n",
       "      <td>10866.000000</td>\n",
       "      <td>1.086600e+04</td>\n",
       "      <td>1.086600e+04</td>\n",
       "      <td>10866.000000</td>\n",
       "      <td>10866.000000</td>\n",
       "      <td>10866.000000</td>\n",
       "      <td>10866.000000</td>\n",
       "      <td>1.086600e+04</td>\n",
       "      <td>1.086600e+04</td>\n",
       "    </tr>\n",
       "    <tr>\n",
       "      <th>mean</th>\n",
       "      <td>66064.177434</td>\n",
       "      <td>0.646441</td>\n",
       "      <td>1.462570e+07</td>\n",
       "      <td>3.982332e+07</td>\n",
       "      <td>102.070863</td>\n",
       "      <td>217.389748</td>\n",
       "      <td>5.974922</td>\n",
       "      <td>2001.322658</td>\n",
       "      <td>1.755104e+07</td>\n",
       "      <td>5.136436e+07</td>\n",
       "    </tr>\n",
       "    <tr>\n",
       "      <th>std</th>\n",
       "      <td>92130.136561</td>\n",
       "      <td>1.000185</td>\n",
       "      <td>3.091321e+07</td>\n",
       "      <td>1.170035e+08</td>\n",
       "      <td>31.381405</td>\n",
       "      <td>575.619058</td>\n",
       "      <td>0.935142</td>\n",
       "      <td>12.812941</td>\n",
       "      <td>3.430616e+07</td>\n",
       "      <td>1.446325e+08</td>\n",
       "    </tr>\n",
       "    <tr>\n",
       "      <th>min</th>\n",
       "      <td>5.000000</td>\n",
       "      <td>0.000065</td>\n",
       "      <td>0.000000e+00</td>\n",
       "      <td>0.000000e+00</td>\n",
       "      <td>0.000000</td>\n",
       "      <td>10.000000</td>\n",
       "      <td>1.500000</td>\n",
       "      <td>1960.000000</td>\n",
       "      <td>0.000000e+00</td>\n",
       "      <td>0.000000e+00</td>\n",
       "    </tr>\n",
       "    <tr>\n",
       "      <th>25%</th>\n",
       "      <td>10596.250000</td>\n",
       "      <td>0.207583</td>\n",
       "      <td>0.000000e+00</td>\n",
       "      <td>0.000000e+00</td>\n",
       "      <td>90.000000</td>\n",
       "      <td>17.000000</td>\n",
       "      <td>5.400000</td>\n",
       "      <td>1995.000000</td>\n",
       "      <td>0.000000e+00</td>\n",
       "      <td>0.000000e+00</td>\n",
       "    </tr>\n",
       "    <tr>\n",
       "      <th>50%</th>\n",
       "      <td>20669.000000</td>\n",
       "      <td>0.383856</td>\n",
       "      <td>0.000000e+00</td>\n",
       "      <td>0.000000e+00</td>\n",
       "      <td>99.000000</td>\n",
       "      <td>38.000000</td>\n",
       "      <td>6.000000</td>\n",
       "      <td>2006.000000</td>\n",
       "      <td>0.000000e+00</td>\n",
       "      <td>0.000000e+00</td>\n",
       "    </tr>\n",
       "    <tr>\n",
       "      <th>75%</th>\n",
       "      <td>75610.000000</td>\n",
       "      <td>0.713817</td>\n",
       "      <td>1.500000e+07</td>\n",
       "      <td>2.400000e+07</td>\n",
       "      <td>111.000000</td>\n",
       "      <td>145.750000</td>\n",
       "      <td>6.600000</td>\n",
       "      <td>2011.000000</td>\n",
       "      <td>2.085325e+07</td>\n",
       "      <td>3.369710e+07</td>\n",
       "    </tr>\n",
       "    <tr>\n",
       "      <th>max</th>\n",
       "      <td>417859.000000</td>\n",
       "      <td>32.985763</td>\n",
       "      <td>4.250000e+08</td>\n",
       "      <td>2.781506e+09</td>\n",
       "      <td>900.000000</td>\n",
       "      <td>9767.000000</td>\n",
       "      <td>9.200000</td>\n",
       "      <td>2015.000000</td>\n",
       "      <td>4.250000e+08</td>\n",
       "      <td>2.827124e+09</td>\n",
       "    </tr>\n",
       "  </tbody>\n",
       "</table>\n",
       "</div>"
      ],
      "text/plain": [
       "                  id    popularity        budget       revenue       runtime  \\\n",
       "count   10866.000000  10866.000000  1.086600e+04  1.086600e+04  10866.000000   \n",
       "mean    66064.177434      0.646441  1.462570e+07  3.982332e+07    102.070863   \n",
       "std     92130.136561      1.000185  3.091321e+07  1.170035e+08     31.381405   \n",
       "min         5.000000      0.000065  0.000000e+00  0.000000e+00      0.000000   \n",
       "25%     10596.250000      0.207583  0.000000e+00  0.000000e+00     90.000000   \n",
       "50%     20669.000000      0.383856  0.000000e+00  0.000000e+00     99.000000   \n",
       "75%     75610.000000      0.713817  1.500000e+07  2.400000e+07    111.000000   \n",
       "max    417859.000000     32.985763  4.250000e+08  2.781506e+09    900.000000   \n",
       "\n",
       "         vote_count  vote_average  release_year    budget_adj   revenue_adj  \n",
       "count  10866.000000  10866.000000  10866.000000  1.086600e+04  1.086600e+04  \n",
       "mean     217.389748      5.974922   2001.322658  1.755104e+07  5.136436e+07  \n",
       "std      575.619058      0.935142     12.812941  3.430616e+07  1.446325e+08  \n",
       "min       10.000000      1.500000   1960.000000  0.000000e+00  0.000000e+00  \n",
       "25%       17.000000      5.400000   1995.000000  0.000000e+00  0.000000e+00  \n",
       "50%       38.000000      6.000000   2006.000000  0.000000e+00  0.000000e+00  \n",
       "75%      145.750000      6.600000   2011.000000  2.085325e+07  3.369710e+07  \n",
       "max     9767.000000      9.200000   2015.000000  4.250000e+08  2.827124e+09  "
      ]
     },
     "execution_count": 2,
     "metadata": {},
     "output_type": "execute_result"
    }
   ],
   "source": [
    "# 1.获取数据表的行列，并打印。(第一行的 original_title 列)\n",
    "print(movie_data['original_title'][0])\n",
    "# 2. 使用 `.head()`、`.tail()`、`.sample()` 方法，观察、了解数据表的情况。\n",
    "movie_data.head()\n",
    "movie_data.tail()\n",
    "movie_data.sample()\n",
    "# 3. 使用 `.dtypes` 属性，来查看各列数据的数据类型\n",
    "movie_data.dtypes\n",
    "# 4. 使用 `isnull()` 配合 `.any()` 等方法，来查看各列是否存在空值。\n",
    "movie_data.isnull().any()\n",
    "#5. 使用 `.describe()` 方法，看看数据表中数值型的数据是怎么分布的。\n",
    "movie_data.describe()"
   ]
  },
  {
   "cell_type": "markdown",
   "metadata": {},
   "source": [
    "---\n",
    "\n",
    "**任务1.3: ** 清理数据\n",
    "\n",
    "在真实的工作场景中，数据处理往往是最为费时费力的环节。但是幸运的是，我们提供给大家的 tmdb 数据集非常的「干净」，不需要大家做特别多的数据清洗以及处理工作。在这一步中，你的核心的工作主要是对数据表中的空值进行处理。你可以使用 `.fillna()` 来填补空值，当然也可以使用 `.dropna()` 来丢弃数据表中包含空值的某些行或者列。\n",
    "\n",
    "任务：使用适当的方法来清理空值，并将得到的数据保存。"
   ]
  },
  {
   "cell_type": "code",
   "execution_count": 3,
   "metadata": {},
   "outputs": [],
   "source": [
    "# 将NaN空值替换为0\n",
    "movie_data_fill_zero = movie_data.fillna(0)\n",
    "# 删除包含 NaN 值的任何行\n",
    "movie_data_dropna = movie_data.dropna(axis = 0)\n",
    "# movie_data_dropna.isnull().sum()"
   ]
  },
  {
   "cell_type": "markdown",
   "metadata": {},
   "source": [
    "---\n",
    "\n",
    "---\n",
    "\n",
    "## 第二节 根据指定要求读取数据\n",
    "\n",
    "\n",
    "相比 Excel 等数据分析软件，Pandas 的一大特长在于，能够轻松地基于复杂的逻辑选择合适的数据。因此，如何根据指定的要求，从数据表当获取适当的数据，是使用 Pandas 中非常重要的技能，也是本节重点考察大家的内容。\n",
    "\n"
   ]
  },
  {
   "cell_type": "markdown",
   "metadata": {},
   "source": [
    "---\n",
    "\n",
    "**任务2.1: ** 简单读取\n",
    "\n",
    "1. 读取数据表中名为 `id`、`popularity`、`budget`、`runtime`、`vote_average` 列的数据。\n",
    "2. 读取数据表中前1～20行以及48、49行的数据。\n",
    "3. 读取数据表中第50～60行的 `popularity` 那一列的数据。\n",
    "\n",
    "要求：每一个语句只能用一行代码实现。"
   ]
  },
  {
   "cell_type": "code",
   "execution_count": 4,
   "metadata": {},
   "outputs": [],
   "source": [
    "# 1. 读取数据表中名为 `id`、`popularity`、`budget`、`runtime`、`vote_average` 列的数据。\n",
    "move_data1 = movie_data[['id', 'popularity', 'budget', 'runtime', 'vote_average']]\n",
    "# print(move_data1)\n",
    "# 2. 读取数据表中前1～20行以及48、49行的数据。\n",
    "moive_data2 = movie_data.iloc[0:20].append(movie_data.iloc[47:49])\n",
    "# print(moive_data2)\n",
    "# 3. 读取数据表中第50～60行的 `popularity` 那一列的数据。\n",
    "moive_data3 = movie_data.iloc[49:60][['popularity']]\n",
    "# print(moive_data3)"
   ]
  },
  {
   "cell_type": "markdown",
   "metadata": {},
   "source": [
    "---\n",
    "\n",
    "**任务2.2: **逻辑读取（Logical Indexing）\n",
    "\n",
    "1. 读取数据表中 **`popularity` 大于5** 的所有数据。\n",
    "2. 读取数据表中 **`popularity` 大于5** 的所有数据且**发行年份在1996年之后**的所有数据。\n",
    "\n",
    "提示：Pandas 中的逻辑运算符如 `&`、`|`，分别代表`且`以及`或`。\n",
    "\n",
    "要求：请使用 Logical Indexing实现。"
   ]
  },
  {
   "cell_type": "code",
   "execution_count": 5,
   "metadata": {},
   "outputs": [],
   "source": [
    "# 读取数据表中 popularity 大于5 的所有数据。\n",
    "moive_test = movie_data[movie_data['popularity'] > 5]\n",
    "# print(moive_test)\n",
    "# 读取数据表中 popularity 大于5 的所有数据且发行年份在1996年之后的所有数据。\n",
    "moive_test = movie_data[(movie_data['popularity'] > 5) & (movie_data['release_year'] > 1996)]\n",
    "# print(moive_test)"
   ]
  },
  {
   "cell_type": "markdown",
   "metadata": {},
   "source": [
    "---\n",
    "\n",
    "**任务2.3: **分组读取\n",
    "\n",
    "1. 对 `release_year` 进行分组，使用 [`.agg`](http://pandas.pydata.org/pandas-docs/version/0.22/generated/pandas.core.groupby.DataFrameGroupBy.agg.html) 获得 `revenue` 的均值。\n",
    "2. 对 `director` 进行分组，使用 [`.agg`](http://pandas.pydata.org/pandas-docs/version/0.22/generated/pandas.core.groupby.DataFrameGroupBy.agg.html) 获得 `popularity` 的均值，从高到低排列。\n",
    "\n",
    "要求：使用 `Groupby` 命令实现。"
   ]
  },
  {
   "cell_type": "code",
   "execution_count": 6,
   "metadata": {},
   "outputs": [],
   "source": [
    "# 对 release_year 进行分组，使用 .agg 获得 revenue 的均值。\n",
    "# moive_test = movie_data.groupby('release_year')['revenue'].mean()\n",
    "moive_test = movie_data.groupby('release_year')['revenue'].agg(['mean'])\n",
    "# print(moive_test)\n",
    "# 对 director 进行分组，使用 .agg 获得 popularity 的均值，从高到低排列。\n",
    "moive_test = movie_data.groupby('director')['popularity'].agg(['mean']).sort_values(by=\"mean\" , ascending=False)\n",
    "# print(moive_test)"
   ]
  },
  {
   "cell_type": "markdown",
   "metadata": {},
   "source": [
    "---\n",
    "\n",
    "---\n",
    "\n",
    "## 第三节 绘图与可视化\n",
    "\n",
    "接着你要尝试对你的数据进行图像的绘制以及可视化。这一节最重要的是，你能够选择合适的图像，对特定的可视化目标进行可视化。所谓可视化的目标，是你希望从可视化的过程中，观察到怎样的信息以及变化。例如，观察票房随着时间的变化、哪个导演最受欢迎等。\n",
    "\n",
    "<table>\n",
    "<thead><tr><th>可视化的目标</th><th>可以使用的图像</th></tr></thead><tbody>\n",
    " <tr><td>表示某一属性数据的分布</td><td>饼图、直方图、散点图</td></tr>\n",
    " <tr><td>表示某一属性数据随着某一个变量变化</td><td>条形图、折线图、热力图</td></tr>\n",
    " <tr><td>比较多个属性的数据之间的关系</td><td>散点图、小提琴图、堆积条形图、堆积折线图</td></tr>\n",
    "</tbody></table>\n",
    "\n",
    "在这个部分，你需要根据题目中问题，选择适当的可视化图像进行绘制，并进行相应的分析。对于选做题，他们具有一定的难度，你可以尝试挑战一下～"
   ]
  },
  {
   "cell_type": "markdown",
   "metadata": {},
   "source": [
    "**任务3.1：**对 `popularity` 最高的20名电影绘制其 `popularity` 值。"
   ]
  },
  {
   "cell_type": "code",
   "execution_count": 7,
   "metadata": {},
   "outputs": [
    {
     "data": {
      "image/png": "[encoded data removed]",
      "text/plain": [
       "<Figure size 432x288 with 1 Axes>"
      ]
     },
     "metadata": {},
     "output_type": "display_data"
    }
   ],
   "source": [
    "# 按popularity降幂排序，选取其最高的前20数据\n",
    "movie_popularity = movie_data.sort_values(by='popularity' , ascending=False).head(20)\n",
    "# movie_popularity = movie_data.groupby('original_title')['popularity'].agg(['mean']).sort_values(by=\"mean\" , ascending=False)\n",
    "base_color = sb.color_palette()[0]\n",
    "# print(movie_popularity)\n",
    "# 绘制电影名称对应的popularity柱状图\n",
    "sb.barplot(data = movie_popularity,y = 'original_title', x = 'popularity',color = base_color);\n",
    "# plt.xticks(rotation = 90)"
   ]
  },
  {
   "cell_type": "markdown",
   "metadata": {},
   "source": [
    "---\n",
    "**任务3.2：**分析电影净利润（票房-成本）随着年份变化的情况，并简单进行分析。"
   ]
  },
  {
   "cell_type": "code",
   "execution_count": 8,
   "metadata": {},
   "outputs": [
    {
     "data": {
      "image/png": "[encoded data removed]",
      "text/plain": [
       "<Figure size 432x288 with 1 Axes>"
      ]
     },
     "metadata": {},
     "output_type": "display_data"
    }
   ],
   "source": [
    "# 筛选年份\n",
    "year_profit = movie_data[[ 'release_year']]\n",
    "# 插入利润列\n",
    "year_profit.insert(1,'profit',movie_data[ 'revenue'] - movie_data['budget'])\n",
    "# print(year_profit.describe())\n",
    "base_color = sb.color_palette()[0]\n",
    "# 用直方图显示年份和利润的关系\n",
    "sb.countplot(data = year_profit, x = 'release_year', color = base_color);\n",
    "plt.xticks(rotation = 90);\n",
    "\n",
    "# 简要分析\n",
    "# 从下图可以看出随着年份的增长，电影净利润总体也随着增长"
   ]
  },
  {
   "cell_type": "markdown",
   "metadata": {},
   "source": [
    "---\n",
    "\n",
    "**[选做]任务3.3：**选择最多产的10位导演（电影数量最多的），绘制他们排行前3的三部电影的票房情况，并简要进行分析。"
   ]
  },
  {
   "cell_type": "code",
   "execution_count": 9,
   "metadata": {},
   "outputs": [
    {
     "data": {
      "image/png": "[encoded data removed]",
      "text/plain": [
       "<Figure size 432x288 with 1 Axes>"
      ]
     },
     "metadata": {},
     "output_type": "display_data"
    }
   ],
   "source": [
    "# 获取最多产的10位导演\n",
    "directors = movie_data.groupby(['director'])['original_title'].agg(['size']).sort_values(by='size' , ascending=False).head(10)\n",
    "# print(directors)\n",
    "#创建一个空的dataframe,用于存放前10导演、电影、票房\n",
    "top_data = pd.DataFrame(columns = ['director','original_title','revenue'])\n",
    "# 遍历导演获取对应前三票房 DataFrame\n",
    "for index, row in directors.iterrows():\n",
    "    # 筛选导演对应票房前三的电影\n",
    "    top_data = top_data.append(movie_data[(movie_data['director'] == index)].sort_values(by='revenue' , ascending=False).head(3)[['director','original_title','revenue']])\n",
    "    # 剩下怎么去画图？\n",
    "    sb.barplot(data = top_data,y = 'revenue', x = 'original_title',color = base_color);\n",
    "    \n",
    "plt.xticks(rotation = 90);\n",
    "# print(top_data)\n",
    "# 简要分析\n",
    "# 产量高导演的电影票房不一定就高\n"
   ]
  },
  {
   "cell_type": "markdown",
   "metadata": {},
   "source": [
    "---\n",
    "\n",
    "**[选做]任务3.4：**分析1968年~2015年六月电影的数量的变化。"
   ]
  },
  {
   "cell_type": "code",
   "execution_count": 104,
   "metadata": {},
   "outputs": [
    {
     "name": "stderr",
     "output_type": "stream",
     "text": [
      "/Users/xinxi/anaconda3/lib/python3.6/site-packages/ipykernel_launcher.py:8: UserWarning: Boolean Series key will be reindexed to match DataFrame index.\n",
      "  \n"
     ]
    },
    {
     "data": {
      "image/png": "[encoded data removed]",
      "text/plain": [
       "<Figure size 432x288 with 1 Axes>"
      ]
     },
     "metadata": {},
     "output_type": "display_data"
    }
   ],
   "source": [
    "# 柱状图\n",
    "movie_d1 = movie_data\n",
    "# 发行日期release_year转化成数字方便获取数据年份区间\n",
    "movie_d1['release_year'] = pd.to_numeric(movie_d1['release_year'])\n",
    "# 筛选1968年~2015年电影 数据\n",
    "movie_d1 = movie_d1[(movie_d1['release_year'] >= 1968) & (movie_d1['release_year'] <= 2015)]\n",
    "# 选取1968年~2015年6月份的电影\n",
    "movie_d1 = movie_d1[movie_data['release_date'].str.startswith('6/')]\n",
    "# 分组获取\n",
    "movie_d2 = movie_d1.groupby(['release_year'])['imdb_id'].agg(['count'])\n",
    "# 将时间索引变成列\n",
    "movie_d2['release_year'] = movie_d2.index\n",
    "# movie_d2.reset_index(name = 'count') # ？？将序列转成dataframe,实际未生效\n",
    "# print(movie_d2)\n",
    "# 绘制968年~2015年六月电影的数量的柱状图\n",
    "sb.barplot(data = movie_d2,y = 'count', x = 'release_year',color = base_color);\n",
    "plt.xticks(rotation = 80);\n",
    "# 简要分析\n",
    "# 如下图1968年~2015年六月电影随着年份的增长，电影数量也逐渐的增多,中间1989－2000年6月份电影数量有点下降"
   ]
  },
  {
   "cell_type": "markdown",
   "metadata": {},
   "source": [
    "---\n",
    "\n",
    "**[选做]任务3.5：**分析1968年~2015年六月电影 `Comedy` 和 `Drama` 两类电影的数量的变化。"
   ]
  },
  {
   "cell_type": "code",
   "execution_count": 116,
   "metadata": {},
   "outputs": [
    {
     "name": "stdout",
     "output_type": "stream",
     "text": [
      "release_year  genres                                   \n",
      "1968          Horror|Drama|Mystery                         1\n",
      "              Romance|Crime|Thriller|Drama                 1\n",
      "1970          Action|Adventure|Comedy|Drama|War            1\n",
      "              War|Comedy|Drama                             1\n",
      "1971          Action|Crime|Drama|Thriller                  1\n",
      "              Action|Drama                                 1\n",
      "1972          Crime|Drama|Romance|Thriller                 1\n",
      "1973          Action|Adventure|Drama                       1\n",
      "              Crime|Drama                                  1\n",
      "1974          Crime|Drama|Mystery|Thriller                 1\n",
      "              Crime|Drama|Thriller                         1\n",
      "1975          Music|Drama                                  1\n",
      "1976          Action|Drama|History|War                     1\n",
      "              Drama|Action|Comedy|Music|Family             1\n",
      "1977          Romance|Comedy|Family|Action|Adventure       1\n",
      "1978          Action|Comedy|Drama                          1\n",
      "              Action|Crime|Drama|Thriller                  1\n",
      "              Action|Drama|Horror|Thriller                 1\n",
      "              Fantasy|Drama|Comedy|Romance                 1\n",
      "1979          Crime|Drama                                  1\n",
      "1980          Action|Comedy|Drama|Romance|Western          1\n",
      "              Action|Comedy|Drama|Thriller                 1\n",
      "              Crime|Drama                                  1\n",
      "              Fantasy|Comedy|Family|Adventure              1\n",
      "              Music|Comedy|Action|Crime                    1\n",
      "              Western|Drama                                1\n",
      "1981          Action|Comedy                                1\n",
      "              Action|Drama                                 1\n",
      "              Crime|Family|Comedy                          1\n",
      "1982          Comedy|Drama|Family|Music                    1\n",
      "                                                          ..\n",
      "2013          Horror|Thriller|Comedy|Action                1\n",
      "              Romance|Drama|Music                          1\n",
      "              Thriller|Drama                               1\n",
      "2014          Animation|Comedy|Family|Adventure            1\n",
      "              Comedy|Drama                                 1\n",
      "              Crime|Comedy|Action                          1\n",
      "              Crime|Drama                                  1\n",
      "              Drama|Comedy|Romance                         1\n",
      "              Family|Fantasy|Comedy|Romance                1\n",
      "              Fantasy|Action|Adventure|Animation|Comedy    1\n",
      "              Horror|Comedy                                1\n",
      "              Music|Drama                                  1\n",
      "              Romance|Comedy                               1\n",
      "              Science Fiction|Action|Drama|Thriller        1\n",
      "              Thriller|Drama                               1\n",
      "              Western|Action|Drama|Science Fiction         1\n",
      "2015          Action|Drama                                 1\n",
      "              Adventure|Drama|Family                       1\n",
      "              Animation|Comedy|Family|Fantasy|Music        1\n",
      "              Comedy|Drama                                 1\n",
      "              Crime|Drama                                  1\n",
      "              Crime|Drama|Comedy                           1\n",
      "              Drama|Comedy                                 1\n",
      "              Family|Animation|Adventure|Comedy            1\n",
      "              Music|Drama|Documentary|Crime                1\n",
      "              Mystery|Comedy                               1\n",
      "              Mystery|Drama                                1\n",
      "              Mystery|Drama|History|Family|Thriller        1\n",
      "              Romance|Comedy                               1\n",
      "              Science Fiction|Drama|Family                 1\n",
      "Length: 264, dtype: int64\n"
     ]
    },
    {
     "name": "stderr",
     "output_type": "stream",
     "text": [
      "/Users/xinxi/anaconda3/lib/python3.6/site-packages/ipykernel_launcher.py:8: UserWarning: Boolean Series key will be reindexed to match DataFrame index.\n",
      "  \n",
      "/Users/xinxi/anaconda3/lib/python3.6/site-packages/ipykernel_launcher.py:10: UserWarning: Boolean Series key will be reindexed to match DataFrame index.\n",
      "  # Remove the CWD from sys.path while we load stuff.\n"
     ]
    }
   ],
   "source": [
    "# 集群条形图\n",
    "movie_d1 = movie_data\n",
    "# 发行日期release_year转化成数字方便获取数据年份区间\n",
    "movie_d1['release_year'] = pd.to_numeric(movie_d1['release_year'])\n",
    "# 筛选1968年~2015年电影 数据\n",
    "movie_d1 = movie_d1[(movie_d1['release_year'] >= 1968) & (movie_d1['release_year'] <= 2015)]\n",
    "# 选取1968年~2015年6月份的电影\n",
    "movie_d2 = movie_d1[movie_data['release_date'].str.startswith('6/')]\n",
    "# 选取Comedy 和 Drama 两类的电影数据\n",
    "movie_d2 = movie_d2[(movie_data['genres'].str.find('Comedy') > 0) | (movie_data['genres'].str.find('Drama') > 0)]\n",
    "\n",
    "## 分类命名Comedy，Drama 组装合并DataFrame, 合并两个子集错误,应该是索引重复问题\n",
    "# movie_comedy = movie_d2[(movie_data['genres'].str.find('Comedy') > 0)]\n",
    "# movie_comedy['genres'] = 'Comedy'\n",
    "# movie_drama = movie_d2[(movie_data['genres'].str.find('Drama') > 0)]\n",
    "# movie_drama['genres'] = 'Drama'\n",
    "# movie_d3.append(movie_drama)\n",
    "# movie_d3 = pd.concat([movie_comedy,movie_drama])\n",
    "# print(movie_d3)\n",
    "\n",
    "# 分组统计\n",
    "ct_counts = movie_d2.groupby(['release_year', 'genres']).size()\n",
    "# 将序列转成dataframe,实际未生效？？？？？\n",
    "ct_counts.reset_index(name = 'count')\n",
    "print(ct_counts)\n",
    "# 画集群条形图，这里是失败的，所以注释掉了\n",
    "# sb.countplot(data = ct_counts, x = 'release_year', hue = 'genres')\n",
    "# plt.xticks(rotation = 15);\n",
    "\n",
    "## 简要分析\n",
    "## 😓任务失败所以这里木有分析，请老师指导"
   ]
  },
  {
   "cell_type": "markdown",
   "metadata": {},
   "source": [
    "> 注意: 当你写完了所有的代码，并且回答了所有的问题。你就可以把你的 iPython Notebook 导出成 HTML 文件。你可以在菜单栏，这样导出**File -> Download as -> HTML (.html)、Python (.py)** 把导出的 HTML、python文件 和这个 iPython notebook 一起提交给审阅者。"
   ]
  },
  {
   "cell_type": "code",
   "execution_count": null,
   "metadata": {},
   "outputs": [],
   "source": []
  }
 ],
 "metadata": {
  "kernelspec": {
   "display_name": "Python 3",
   "language": "python",
   "name": "python3"
  },
  "language_info": {
   "codemirror_mode": {
    "name": "ipython",
    "version": 3
   },
   "file_extension": ".py",
   "mimetype": "text/x-python",
   "name": "python",
   "nbconvert_exporter": "python",
   "pygments_lexer": "ipython3",
   "version": "3.6.6"
  }
 },
 "nbformat": 4,
 "nbformat_minor": 2
}
